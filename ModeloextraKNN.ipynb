{
 "cells": [
  {
   "cell_type": "code",
   "execution_count": 3,
   "id": "107545ef",
   "metadata": {},
   "outputs": [
    {
     "name": "stdout",
     "output_type": "stream",
     "text": [
      "Modalidades detectadas: ['m0', 'm1', 'm2', 'm3', 'm4']\n"
     ]
    },
    {
     "data": {
      "image/png": "[encoded data removed]",
      "text/plain": [
       "<Figure size 1500x300 with 5 Axes>"
      ]
     },
     "metadata": {},
     "output_type": "display_data"
    }
   ],
   "source": [
    "import os\n",
    "import random\n",
    "import matplotlib.pyplot as plt\n",
    "from PIL import Image\n",
    "\n",
    "# Definir carpeta base (desde donde se ejecuta el notebook)\n",
    "base_dir = \"train\"\n",
    "\n",
    "# Detectar automáticamente todas las modalidades m0, m1, ..., m4\n",
    "modalities = sorted([\n",
    "    d for d in os.listdir(base_dir)\n",
    "    if os.path.isdir(os.path.join(base_dir, d)) and d.startswith(\"m\")\n",
    "])\n",
    "\n",
    "print(\"Modalidades detectadas:\", modalities)\n",
    "\n",
    "# Elegir qué dígito mostrar (0 al 9)\n",
    "target_label = \"5\"  \n",
    "\n",
    "images = []\n",
    "\n",
    "# Recorrer cada modalidad\n",
    "for mod in modalities:\n",
    "    folder_path = os.path.join(base_dir, mod)\n",
    "\n",
    "    # Filtrar imágenes con la etiqueta deseada \n",
    "    all_images = [\n",
    "        f for f in os.listdir(folder_path)\n",
    "        if f.endswith(\".png\") and f.split(\".\")[1] == target_label\n",
    "    ]\n",
    "\n",
    "    if not all_images:\n",
    "        print(f\"No se encontraron imágenes con etiqueta {target_label} en {mod}\")\n",
    "        continue\n",
    "\n",
    "    # Elegir una imagen aleatoria de esa etiqueta\n",
    "    img_file = random.choice(all_images)\n",
    "    img_path = os.path.join(folder_path, img_file)\n",
    "    img = Image.open(img_path)\n",
    "    images.append((mod, img))\n",
    "\n",
    "# Mostrar las imágenes seleccionadas\n",
    "plt.figure(figsize=(15, 3))\n",
    "for idx, (mod, img) in enumerate(images):\n",
    "    plt.subplot(1, len(images), idx + 1)\n",
    "    plt.imshow(img, cmap=\"gray\")\n",
    "    plt.title(f\"{mod}\")\n",
    "    plt.axis(\"off\")\n",
    "\n",
    "plt.suptitle(f\"Dígito '{target_label}' en cada modalidad\", fontsize=16)\n",
    "plt.tight_layout()\n",
    "plt.show()"
   ]
  },
  {
   "cell_type": "code",
   "execution_count": 4,
   "id": "0a43d25f",
   "metadata": {},
   "outputs": [
    {
     "name": "stdout",
     "output_type": "stream",
     "text": [
      "X shape: (5, 784)\n",
      "y shape: (5,)\n"
     ]
    }
   ],
   "source": [
    "# Convertir las imágenes a escala de grises y luego a vectores de 784 dimensiones\n",
    "X = np.array([np.array(img.convert('L')).flatten() for _, img in images])  # Convertir a escala de grises\n",
    "y = np.array([target_label] * len(images))  # Etiquetas del dígito \"5\"\n",
    "\n",
    "# Mostrar las formas para asegurarnos de que todo esté correcto\n",
    "print(\"X shape:\", X.shape)  # Debería ser (5, 784)\n",
    "print(\"y shape:\", y.shape)\n"
   ]
  },
  {
   "cell_type": "code",
   "execution_count": 6,
   "id": "50cbbf75",
   "metadata": {},
   "outputs": [
    {
     "name": "stdout",
     "output_type": "stream",
     "text": [
      "Found 300000 images belonging to 5 classes.\n",
      "Found 50000 images belonging to 5 classes.\n"
     ]
    }
   ],
   "source": [
    "from tensorflow.keras.preprocessing.image import ImageDataGenerator\n",
    "\n",
    "# Definir las carpetas de entrenamiento y prueba\n",
    "train_dir = \"train\"\n",
    "test_dir = \"test\"\n",
    "\n",
    "# Generadores de datos con normalización\n",
    "train_datagen = ImageDataGenerator(rescale=1.0/255.0)\n",
    "test_datagen = ImageDataGenerator(rescale=1.0/255.0)\n",
    "\n",
    "# Generador para entrenamiento\n",
    "train_generator = train_datagen.flow_from_directory(\n",
    "    train_dir,\n",
    "    target_size=(28, 28),\n",
    "    batch_size=64,\n",
    "    class_mode='categorical'\n",
    ")\n",
    "\n",
    "# Generador para prueba\n",
    "test_generator = test_datagen.flow_from_directory(\n",
    "    test_dir,\n",
    "    target_size=(28, 28),\n",
    "    batch_size=64,\n",
    "    class_mode='categorical',\n",
    "    shuffle=False\n",
    ")\n"
   ]
  },
  {
   "cell_type": "code",
   "execution_count": null,
   "id": "030740d8",
   "metadata": {},
   "outputs": [
    {
     "name": "stdout",
     "output_type": "stream",
     "text": [
      "x_train shape: (300000, 784)\n",
      "y_train shape: (300000,)\n",
      "x_test shape: (50000, 784)\n",
      "y_test shape: (50000,)\n",
      "Precisión del modelo K-NN: 37.02%\n"
     ]
    }
   ],
   "source": [
    "from sklearn.neighbors import KNeighborsClassifier\n",
    "from sklearn.metrics import accuracy_score\n",
    "from sklearn.model_selection import train_test_split\n",
    "import numpy as np\n",
    "\n",
    "x_train = []\n",
    "y_train = []\n",
    "x_test = []\n",
    "y_test = []\n",
    "\n",
    "# Bucle para recorrer el generador de entrenamiento\n",
    "for img_batch, label_batch in train_generator:\n",
    "    for img, label in zip(img_batch, label_batch):\n",
    "        gray_img = np.array(Image.fromarray(img.astype('uint8')).convert('L'))  # Convertir a escala de grises\n",
    "        x_train.append(gray_img.flatten())  # Aplanar la imagen a un vector\n",
    "        y_train.append(np.argmax(label))  # Convertir etiquetas one-hot a índices\n",
    "\n",
    "    if len(x_train) >= len(train_generator.filenames):  # Terminar después de procesar todas las imágenes\n",
    "        break\n",
    "\n",
    "# Bucle para recorrer el generador de prueba\n",
    "for img_batch, label_batch in test_generator:\n",
    "    for img, label in zip(img_batch, label_batch):\n",
    "        gray_img = np.array(Image.fromarray(img.astype('uint8')).convert('L'))  # Convertir a escala de grises\n",
    "        x_test.append(gray_img.flatten())  # Aplanar la imagen a un vector\n",
    "        y_test.append(np.argmax(label))  # Convertir etiquetas one-hot a índices\n",
    "\n",
    "    if len(x_test) >= len(test_generator.filenames):  # Terminar después de procesar todas las imágenes\n",
    "        break\n",
    "\n",
    "# Convertir las listas a arrays de numpy\n",
    "x_train = np.array(x_train)\n",
    "y_train = np.array(y_train)\n",
    "x_test = np.array(x_test)\n",
    "y_test = np.array(y_test)\n",
    "\n",
    "# Verificar las formas\n",
    "print(\"x_train shape:\", x_train.shape)  \n",
    "print(\"y_train shape:\", y_train.shape)\n",
    "print(\"x_test shape:\", x_test.shape)  \n",
    "print(\"y_test shape:\", y_test.shape)\n",
    "\n",
    "# 3. Entrenar el modelo K-NN\n",
    "k = 3  # Número de vecinos\n",
    "knn = KNeighborsClassifier(n_neighbors=k)\n",
    "knn.fit(x_train, y_train)\n",
    "\n",
    "# 4. Evaluar el modelo\n",
    "y_pred = knn.predict(x_test)\n",
    "accuracy = accuracy_score(y_test, y_pred)\n",
    "\n",
    "print(f\"Precisión del modelo K-NN: {accuracy * 100:.2f}%\")\n"
   ]
  },
  {
   "cell_type": "code",
   "execution_count": null,
   "id": "139552cd",
   "metadata": {},
   "outputs": [],
   "source": []
  }
 ],
 "metadata": {
  "kernelspec": {
   "display_name": "Python 3",
   "language": "python",
   "name": "python3"
  },
  "language_info": {
   "codemirror_mode": {
    "name": "ipython",
    "version": 3
   },
   "file_extension": ".py",
   "mimetype": "text/x-python",
   "name": "python",
   "nbconvert_exporter": "python",
   "pygments_lexer": "ipython3",
   "version": "3.9.4"
  }
 },
 "nbformat": 4,
 "nbformat_minor": 5
}
